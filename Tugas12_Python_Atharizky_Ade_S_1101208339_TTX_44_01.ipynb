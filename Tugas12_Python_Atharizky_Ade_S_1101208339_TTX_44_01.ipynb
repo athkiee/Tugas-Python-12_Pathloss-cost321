{
  "nbformat": 4,
  "nbformat_minor": 0,
  "metadata": {
    "colab": {
      "name": "Tugas12-Python_Atharizky Ade S_1101208339_TTX-44-01.ipynb",
      "provenance": [],
      "collapsed_sections": [],
      "include_colab_link": true
    },
    "kernelspec": {
      "name": "python3",
      "display_name": "Python 3"
    }
  },
  "cells": [
    {
      "cell_type": "markdown",
      "metadata": {
        "id": "view-in-github",
        "colab_type": "text"
      },
      "source": [
        "<a href=\"https://colab.research.google.com/github/athkiee/Tugas-Python-12_Pathloss-cost321/blob/main/Tugas12_Python_Atharizky_Ade_S_1101208339_TTX_44_01.ipynb\" target=\"_parent\"><img src=\"https://colab.research.google.com/assets/colab-badge.svg\" alt=\"Open In Colab\"/></a>"
      ]
    },
    {
      "cell_type": "markdown",
      "metadata": {
        "id": "gFYqsKllxa6X"
      },
      "source": [
        "**Tugas Python Pertemuan 12**"
      ]
    },
    {
      "cell_type": "markdown",
      "metadata": {
        "id": "8GMoNpzxyF-5"
      },
      "source": [
        "Atharizky Ade Santosa_1101208339_TTX-44-01"
      ]
    },
    {
      "cell_type": "code",
      "metadata": {
        "id": "wvfSi07txVK7"
      },
      "source": [
        "import numpy as np"
      ],
      "execution_count": null,
      "outputs": []
    },
    {
      "cell_type": "code",
      "metadata": {
        "id": "4yP4varjyrFq"
      },
      "source": [
        "def pathloss(fc, ht, hr, d, area ) :\r\n",
        "\r\n",
        "  #nilai c1 & c2\r\n",
        "  if fc >= 400000 and fc <= 1500000:\r\n",
        "    c1 = 69.55\r\n",
        "    c2 = 26.16\r\n",
        "  elif fc > 1500000 and fc <= 2000000:\r\n",
        "    c1 = 46.3\r\n",
        "    c2 = 33.9\r\n",
        "  \r\n",
        "  #nilai cm\r\n",
        "  if area == \"urban\":\r\n",
        "    cm = 0\r\n",
        "  elif area == \"suburban\":\r\n",
        "    cm = -2*(np.log10(fc/28))**2 - 5.4\r\n",
        "  elif area == \"open\":\r\n",
        "    cm = -4.78*(np.log10(fc))**2 + (18.33*np.log10(fc)) - 40.94\r\n",
        "\r\n",
        " \r\n",
        "  ahr = ((1.1*np.log10(fc)) - 0.7)*(hr) - ((1.56*np.log10(fc)) - 0.8)\r\n",
        "  Lp = c1 + c2*np.log10(fc) - 13.83*np.log10(ht) - (ahr) + (44.9 - 6.55*np.log10(ht))*np.log10(d) + cm\r\n",
        "  return Lp"
      ],
      "execution_count": null,
      "outputs": []
    },
    {
      "cell_type": "code",
      "metadata": {
        "colab": {
          "base_uri": "https://localhost:8080/"
        },
        "id": "0ur-DxhmyvnQ",
        "outputId": "27d5660d-4255-420c-f3a4-eac508780516"
      },
      "source": [
        "PL = pathloss(900000, 150, 20, 10, \"open\")\r\n",
        "print(\"Pathloss: \", PL, \"dB\")"
      ],
      "execution_count": null,
      "outputs": [
        {
          "output_type": "stream",
          "text": [
            "Pathloss:  16.09543403585654 dB\n"
          ],
          "name": "stdout"
        }
      ]
    }
  ]
}